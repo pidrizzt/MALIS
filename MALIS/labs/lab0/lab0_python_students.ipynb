{
 "cells": [
  {
   "cell_type": "markdown",
   "metadata": {},
   "source": [
    "<h1>MALIS Lab Session 0 - Fall 2020</h1>"
   ]
  },
  {
   "cell_type": "markdown",
   "metadata": {},
   "source": [
    "The aim of this laboratory is to let you review or learn some basic python scripts and functions useful for future labs and for your project. \n",
    "\n",
    "### Pre-requisites\n",
    "This lab assumes that you have basic notions of programming.\n",
    "\n",
    "### Other material\n",
    "The web is full of material that you can use to get yourself trained in the use of Python. Some suggestions include:\n",
    "1. https://www.python.org/doc/\n",
    "2. https://www.w3schools.com/python/\n",
    "3. https://opentechschool.github.io/python-data-intro/core/recap.html\n",
    "4. https://www.stavros.io/tutorials/python/\n",
    "\n",
    "### Help\n",
    "When you need to use a function in a library which you do not know how to handle or when you have to do something you have not seen before, search examples on the internet or in the manual or type ```help(function_name)``` .\n",
    "\n",
    "**Let's start!**"
   ]
  },
  {
   "cell_type": "markdown",
   "metadata": {},
   "source": [
    "# The Basics\n",
    "\n",
    "### Variables and data types\n",
    "* You do not need to specify for each variable its data type, just initialize them and by default the correct type will be assigned to them.\n",
    "* If you perform operations between different types, you do not need to refedine the variable cast.\n",
    "* To print the value of a variable run ```print(variable_name)```. You can print also several variables, just use a comma to divide them.\n",
    "* To comment use the # character.\n",
    "\n",
    "### Strings\n",
    "* To know the length of a string use the function *len( )*.\n",
    "\n",
    "### Operations\n",
    "Operations are standard operations of any other programming language: \n",
    "* **Arithmetic operations:** \\* (product), / (division), % (modulus), \\** (power), + (sum or **concatenation of lists**), - (difference)\n",
    "* **Comparison operations:** < (strictly smaller comparison), > (strictly bigger comparison), <= (smaller comparison), >= (bigger comparison), == (equality comparison)\n",
    "* **Logic operations:** and (and logical operation), or (or logical operation), not (logical operation)\n",
    "* **Bit-wise operations:** << (left-shift), >> (right-shift)"
   ]
  },
  {
   "cell_type": "code",
   "execution_count": null,
   "metadata": {},
   "outputs": [],
   "source": [
    "name = 'my_name' # character\n",
    "age = 22 # integer\n",
    "is_ill = True # boolean\n",
    "height = 1.78 # floating\n",
    "my_list1 = [1, 2, 3.3, 'a string here', 9] # list\n",
    "my_list2 = [5, 7, 8.2, 10]\n",
    "\n",
    "new_list=my_list1 + ['hello'] + my_list2 # list concatenation\n",
    "my_list1.append('hello') # append a new value to my_list1\n",
    "my_list1.append(my_list2) # append a list to my_list1 seen as one element\n",
    "\n",
    "age2=age*height\n",
    "\n",
    "print('is_ill: ',is_ill,'\\nage2: ',age2,'\\nis the age 21?: ',age==21,'\\nlength of name variable: ', len(name))\n",
    "print('Result of a logical expression: ',not age==len(name) or height<age)\n",
    "print('concatenation of lists: ',new_list,' -> it has length: ',len(new_list))\n",
    "print('list appending:',my_list1,' -> it has length: ',len(my_list1))"
   ]
  },
  {
   "cell_type": "markdown",
   "metadata": {},
   "source": [
    "# IF statements and loops"
   ]
  },
  {
   "cell_type": "markdown",
   "metadata": {},
   "source": [
    "Python is sensitive to indentation. When you start a conditional statement or a loop, all the operations inside that block must be indented. The *if* statement and the *loop* statement must finish with the double dots!\n",
    "\n",
    "*elif* is used instead of *else if*\n",
    "\n",
    "*range(start,end,stepsize)* in the *for* loop, makes the variable going from *start* to *end*-1 with a step of *stepsize*\n",
    "\n",
    "*break* can be used to exit from a *loop*\n",
    "\n",
    "```\n",
    "if condition1 :\n",
    "    operations \n",
    "elif condition2 :\n",
    "    operations\n",
    "else :\n",
    "    operations\n",
    "```\n",
    "    \n",
    "```\n",
    "for variable in name_of_the_list :\n",
    "    operations\n",
    "```\n",
    "\n",
    "```\n",
    "for variable in range(start,end,step) :\n",
    "    operations\n",
    "```\n",
    "\n",
    "```\n",
    "while condition :\n",
    "    operations\n",
    "```\n",
    "    "
   ]
  },
  {
   "cell_type": "code",
   "execution_count": null,
   "metadata": {},
   "outputs": [],
   "source": [
    "a=[]\n",
    "for index in range (10) : #if only one element in range(), automatically the step is 1, the start is zero\n",
    "    if len(a)>0 :\n",
    "        print(a)\n",
    "    else :\n",
    "        print('empty')\n",
    "        \n",
    "    a.append(index)\n",
    "    \n",
    "print(a)\n",
    "\n",
    "b=list(range(10))\n",
    "print('\\nb: ',b)\n",
    "b.clear()\n",
    "print('b after clear: ',b)\n",
    "\n",
    "\n",
    "print('\\n0 + 1 + 2 + ... + 7 =',sum(range(8)))\n",
    "\n",
    "a=[]\n",
    "for index in range (0,10,1) :\n",
    "    if len(a)>0 :\n",
    "        print(a)\n",
    "    else :\n",
    "        break\n",
    "        \n",
    "    a.append(index)\n",
    "    \n",
    "print('\\na:',a)"
   ]
  },
  {
   "cell_type": "markdown",
   "metadata": {},
   "source": [
    "### Exercise 1\n",
    "\n",
    "Write a python command to count the number of strings in the following list with more than 10 characters. Meanwhile replace for each of the strings with length smaller than 8 the letter 'i' with the number of their length\n",
    "\n",
    "```my_list=['science','machine_learning','statistics','review','papers','data','analysis','scientific','probability']```"
   ]
  },
  {
   "cell_type": "code",
   "execution_count": null,
   "metadata": {},
   "outputs": [],
   "source": []
  },
  {
   "cell_type": "markdown",
   "metadata": {},
   "source": [
    "# Functions"
   ]
  },
  {
   "cell_type": "markdown",
   "metadata": {},
   "source": [
    "To define a function use the command *def*\n",
    "\n",
    "\n",
    "```def name_function(parameters, default_parameter=None) :\n",
    "    operations\n",
    "    ...\n",
    "    return final_value```"
   ]
  },
  {
   "cell_type": "code",
   "execution_count": null,
   "metadata": {},
   "outputs": [],
   "source": [
    "list1=list(range(3))\n",
    "b=5\n",
    "\n",
    "def my_f(a,b) :\n",
    "    for c in a :\n",
    "        print('f(',a[c],') = ',b*a[c])\n",
    "    return c\n",
    "        \n",
    "final_index=my_f(list1,b)\n",
    "print('final index:', final_index)"
   ]
  },
  {
   "cell_type": "markdown",
   "metadata": {},
   "source": [
    "### Exercise 2\n",
    "\n",
    "Create a function that, given 2 lists as input, generates a list with the elements in the first list only if in the same index of the second list it is present a 1. \n",
    "\n",
    "```my_list=['science','machine_learning','statistics','review','papers','data','analysis','scientific','probability']```\n",
    "\n",
    "```what_to_insert=[0, 1, 1, 0, 0, 1, 1 ,0 ,1]```\n"
   ]
  },
  {
   "cell_type": "code",
   "execution_count": null,
   "metadata": {},
   "outputs": [],
   "source": []
  },
  {
   "cell_type": "markdown",
   "metadata": {},
   "source": [
    "# Libraries"
   ]
  },
  {
   "cell_type": "markdown",
   "metadata": {},
   "source": [
    "A Python library is a collection of functions and methods that allows you to perform many actions without writing your own code. To make use of a given library you need to import it.\n",
    "\n",
    "### Import libraries.\n",
    "To import libraries use\n",
    "\n",
    "```import library_name```\n",
    "\n",
    "If you want to refer to the library using a custom name you can use the reserved word *as ...*\n",
    "\n",
    "```import library_name as abbreviation_you_want```\n",
    "\n",
    "To call a function inside a library write *library_name.function_name(parameters)* (or if you have used an abbreviation *abbreviation_you_want.function_name(parameters)*)\n",
    "\n",
    "If you want to import only some functions use\n",
    "\n",
    "```from library_name import function_name1, function_name2```\n",
    "\n",
    "### Important libraries \n",
    "Here a list of some of the most common used libraries (in parethesis their usual abbreviation on the web, if any):\n",
    "- math : contains many math constants; ...\n",
    "- numpy (np): Use arrays instead of lists. Operations with lists does not work with numpy arrays. With numpy you can use vector and matrices operations (product, resize, transpose, ...) and definitions; standard deviation and mean computation; ...\n",
    "- scipy : it is a numpy extension. Contains linear algebra functions to solve systems; contains functions to deal with sparse matrices; ...\n",
    "- pandas (pd): built on numpy too. Let you build labeled data structures with columns of different types. Fundamental to specify in each row an input value with columns the different dimensions characterizing the input\n",
    "- sklearn : many machine learning algorithms are implemented in scikit-learn\n",
    "- matplotlib (mpl): a library to plot elements. Simiar is possible to use the libraries *bokeh* or *Seaborn* \n"
   ]
  },
  {
   "cell_type": "code",
   "execution_count": null,
   "metadata": {},
   "outputs": [],
   "source": [
    "import numpy as np\n",
    "from math import pi\n",
    "import matplotlib as mpl\n",
    "import matplotlib.pyplot as plt\n",
    "import matplotlib.gridspec as gridspec\n",
    "\n",
    "print(2*pi)\n",
    "\n",
    "matrix = np.array([\n",
    "     [1, 2, 3, 4],\n",
    "     [5, 6, 7, 8],\n",
    "     [9, 10, 11, 12],\n",
    "])\n",
    "\n",
    "print('\\noriginal matrix:\\n',matrix)\n",
    "print('\\nmatrix transpose:\\n',np.transpose(matrix),'\\n')\n",
    "\n",
    "end=10\n",
    "axis=np.linspace(1,end,end) # linear space from 1 to 'end'\n",
    "exponential=axis**2\n",
    "logarithm=np.log(axis)\n",
    "\n",
    "# PLOT\n",
    "fig=plt.figure(constrained_layout=True) # generate a figure\n",
    "gs = gridspec.GridSpec(2, 1, figure=fig) # the figure 'fig' is divided in 2 rows, 1 column\n",
    "\n",
    "ax1=fig.add_subplot(gs[0, :]) # create a sublot in first row, occupying all columns (:)\n",
    "ax1.plot(axis,exponential,c='r',marker='o',ls='--'); # plot in the subplot, 'c' is the color, 'ls' are the line specifications\n",
    "ax1.set(title='Exponential function', ylabel='exp(input)', xlabel='input')\n",
    "\n",
    "ax2=fig.add_subplot(gs[1, :]) # create a sublot in second row\n",
    "ax2.plot(axis,logarithm,c='b',marker='*',ls='--');\n",
    "ax2.set(title='Logarithmic function', ylabel='log(input)', xlabel='input')\n",
    "\n",
    "plt.show()"
   ]
  },
  {
   "cell_type": "markdown",
   "metadata": {},
   "source": [
    "### Exercise 3\n",
    "\n",
    "Generate a matrix 4 x 64, where in each row there are data from a sinusoid  *$A\\cdot\\sin(2\\cdot\\pi\\cdot n/64)$*, where $n$ is the column and of $A$ the index of the row +1 (row 0 $\\rightarrow$ $A=1$, row 1 $\\rightarrow$ $A=2$).\n",
    "\n",
    "Define a function with input a matrix 4 x 64 and a string, which plot each row of the matrix in a different subplot (2 subplots per row and 2 per columns) and plot also in the same subplot the sinusoid *$\\cos(2\\cdot\\pi\\cdot n/64)$* . Insert the legend in each subplot to distinguish the reference signal and the sinusoid from the matrix, and print as title of each subplot the string input parameter.\n",
    "\n",
    "Test your function."
   ]
  },
  {
   "cell_type": "code",
   "execution_count": null,
   "metadata": {},
   "outputs": [],
   "source": []
  },
  {
   "cell_type": "markdown",
   "metadata": {},
   "source": [
    "# Input and Output\n",
    "### Read\n",
    "\n",
    "Many times the data we deal with are stored in .csv (e.g Kaggle, ...) or .data (e.g. UCI databases, ...) or other formats of files. Usually, these are structured data where the first row contains the labels of the data (i.e. the name of each feature( and from the second row onwards there is the data. Each row is usually sample point and the columns its dimensions.\n",
    "\n",
    "When reading data from files, it is important to convert it to a format that can be handled by Python. The library *pandas* provides this functionality by processing the data in the files and storing it as a DataFrame object:  \n",
    "\n",
    "```dataframe_name = pandas.read_csv('./filename.csv')```\n",
    "\n",
    "Unfortunately, pandas does not support every type of file/data. For other types, one should use the following commands:\n",
    "\n",
    "```file_pointer = open('file_name','r')\n",
    "for line in file_pointer:\n",
    "    operations\n",
    "file_pointer.close()\n",
    "```\n",
    "\n",
    "Note: Do not forget to import the *pandas* library!"
   ]
  },
  {
   "cell_type": "markdown",
   "metadata": {},
   "source": [
    "\n"
   ]
  },
  {
   "cell_type": "code",
   "execution_count": null,
   "metadata": {},
   "outputs": [],
   "source": [
    "import pandas as pd\n",
    "\n",
    "example_frame=pd.read_csv('./example.csv')\n",
    "\n",
    "example_frame"
   ]
  },
  {
   "cell_type": "code",
   "execution_count": null,
   "metadata": {},
   "outputs": [],
   "source": [
    "# print the mean of the label3 value, only for the rows in which output is 'ill'\n",
    "\n",
    "print('Mean of label3 for the cases with frequent label2: ', example_frame[example_frame['output']=='ill'].label3.mean() )"
   ]
  },
  {
   "cell_type": "markdown",
   "metadata": {},
   "source": [
    "### Exercise 4\n",
    "\n",
    "In the folder *COVID19_dataset*, there is the file *covid_19_data.csv*. Compute the sum of 'Confirmed' cases the 'ObservationDate' 11th March 2020 ('03/11/20')\n",
    "\n",
    "Plot the graph of confirmed cases in 'the Country/Region' 'US' for the different days. (*Hint*: filter for 'US' to reduce the data, then search the different number of days filtering with *unique( )*, then sum for each day the confirmed cases)"
   ]
  },
  {
   "cell_type": "code",
   "execution_count": null,
   "metadata": {},
   "outputs": [],
   "source": []
  },
  {
   "cell_type": "markdown",
   "metadata": {},
   "source": [
    "### Write\n",
    "\n",
    "Sometimes we want to print for instance the plot we obtained from a graph\n",
    "\n",
    "    import matplotlib.pyplot as plt\n",
    "    ... # plot\n",
    "    plt.savefig('file_name') # you can add options, see library reference\n",
    "\n",
    "\n",
    "or write/append new text in a file\n",
    "\n",
    "    file_pointer=open('file_name','w+') # w+ to write and read, a+ to append and read\n",
    "    # w only to write, a only to append\n",
    "    \n",
    "    for i in range(10):\n",
    "         file_pointer.write(\"This is line %d\\r\\n\" % (i+1))\n",
    "    \n",
    "or write a dataset after having manipulated it:\n",
    "\n",
    "    example_frame.to_csv('file_name')"
   ]
  },
  {
   "cell_type": "markdown",
   "metadata": {},
   "source": [
    "# Objects and Classes\n",
    "\n",
    "Python is an object-oriented program, which means that it works with objects : data structures with their own data and functions.\n",
    "\n",
    "To create an object we need to define a template for that object which is denoted a *Class* with its data (called *properties*) and functions (called *methods*) using \n",
    "\n",
    "    class Class_name :\n",
    "        def __init__(self, properties...)\n",
    "            properties assignments\n",
    "        functions\n",
    "        \n",
    "All classes created in Python have, by default, a function  *\\_\\_init\\_\\_ (self)*. If you want to initialize the object with parameters provided by the user (a program), you can override it by creating an *\\_\\_init\\_\\_* function with the following signature *\\_\\_init\\_\\_ (self, data1, data2, ...)*. *self* is used to refer to object itself. Example:\n",
    "\n",
    "     class Class_name :\n",
    "        def __init__(self, data1, data2)\n",
    "            self.property1_name = data1\n",
    "            self.property2_name = data2\n",
    "        \n",
    "        other_functions ...\n"
   ]
  },
  {
   "cell_type": "code",
   "execution_count": null,
   "metadata": {},
   "outputs": [],
   "source": [
    "# CREATE A CLASS CALLED Person\n",
    "class Person:\n",
    "    def __init__(self, name, age) : # initialize constructor for the object to assign the object its properties\n",
    "        self.name = name\n",
    "        self.age = age\n",
    "    \n",
    "    def print_info(self) : # method of the object that can be used\n",
    "        print('My name is ', self.name,' and I am ',self.age)\n",
    "        \n",
    "# END CLASS PERSON\n",
    "\n",
    "# Object construction\n",
    "p1 = Person('John', 36) # you do not need to pass self, because self refers to the entity itself\n",
    "p2 = Person('Elen', 24)\n",
    "\n",
    "# Print of the objects\n",
    "print('Person 1 name : ', p1.name,', age : ', p1.age )\n",
    "print('Person 2 name : ', p2.name,', age : ', p2.age )\n",
    "\n",
    "# Call the object method\n",
    "p1.print_info()\n",
    "p2.print_info()\n"
   ]
  },
  {
   "cell_type": "markdown",
   "metadata": {},
   "source": [
    "### Child classes\n",
    "\n",
    "You can create a child class which imports everything from its parent class to not redefine every modules and properties of the parent class\n",
    "\n",
    "    class child_class_name(parent_class_name) :\n",
    "        def __init__(self, parent_properties, child_properties) :\n",
    "            super().__init__(parent_properties)\n",
    "            self.child_property1 = child_data1\n",
    "            ...\n",
    "        \n",
    "        def child_function1(self, external parameters)\n",
    "            ...\n",
    "        ...\n",
    "        \n",
    "            "
   ]
  },
  {
   "cell_type": "code",
   "execution_count": null,
   "metadata": {},
   "outputs": [],
   "source": [
    "# run after the previous cell containing the class Person\n",
    "class Student(Person) :\n",
    "    def __init__(self, name, age, graduation_year=None) :# None is the default value of graduation_year of a Student object\n",
    "        super().__init__(name, age)\n",
    "        self.gradY = graduation_year\n",
    "        \n",
    "    def print_graduation(self, description) :\n",
    "        print(self.name, ' is a class ',self.gradY,' student. ',description)\n",
    "# END CHILD CLASS Student\n",
    "\n",
    "student_1=Student('Marie',23,'2021')\n",
    "student_1.print_info()\n",
    "student_1.print_graduation('She is so kind!')\n",
    "    "
   ]
  },
  {
   "cell_type": "markdown",
   "metadata": {},
   "source": [
    "### Exercise 5\n",
    "\n",
    "Generate the class *neuron* with properties *inputs* (numpy 1D column array) , *output (default value is None)*, *Weights* (numpy 1D column array), *bias* (single value) and module *forward_propagation(self)*\n",
    "\n",
    "The module must perform the following operation:\n",
    "output=weights$^T$*inputs+bias\n",
    "\n",
    "Create an object of the class neuron and test it with the following parameters:\n",
    "1. inputs=[1, 0.9, 3, 0.8, 4, -3]$^T$, weights=[0.9, 0.8, 0.2, -0.1, 0, -2]$^T$, bias=5\n",
    "2. inputs=[2, -0.9, 1.5, 0.8, -2, 0]$^T$, weights=[0.9, 0.8, 0.2, -0.1, 0, -2]$^T$, bias=1\n"
   ]
  },
  {
   "cell_type": "code",
   "execution_count": null,
   "metadata": {},
   "outputs": [],
   "source": []
  },
  {
   "cell_type": "markdown",
   "metadata": {},
   "source": [
    "# Modules\n",
    "\n",
    "Jupyter notebooks are useful tools that allow for rapid testing and prototyping. However, once you have developed a stable set of methods it is worth to create your own libraries which can be used by other files/programs without the need to write again all functions, objects, values, etc.\n",
    "\n",
    "Python allows this through the use of modules. Modules are ways to better structure code without the need to write everything in a single too long file, with the risk to waste time in searching for a specific function or class.\n",
    "\n",
    "To create a module, it is sufficient to create a file with whatever you want inside (functions, classes, values, ...) and then save it with the module name you want using the .py extension.\n",
    "\n",
    "To import it, it is sufficient to do as done before for whichever library: ```import my_module_name```. You can also import anly some variables or functions.\n"
   ]
  },
  {
   "cell_type": "code",
   "execution_count": null,
   "metadata": {},
   "outputs": [],
   "source": [
    "import common_libraries as lib # import file common_libraries.py\n",
    "import person_class as pc # import file person_class.py\n",
    "\n",
    "a=lib.np.array(range(10))\n",
    "b=lib.np.random.randint(5,size=10)\n",
    "\n",
    "c=lib.np.dot(a,b)\n",
    "print('a=',a,' ; b=',b,'\\nc=a.T * b=',c,'\\n')\n",
    "\n",
    "person1=pc.Module_Person('Julia',23)\n",
    "person1.print_info()"
   ]
  },
  {
   "cell_type": "markdown",
   "metadata": {},
   "source": [
    "**Final remark**:\n",
    "Open the file person_class to inspect what is inside.\n",
    "As you can see it contains the same code we had created before in this notebook for the classes Person and Student. The sole difference is that the code in the person_class file can be used by other programs. This is not the case for the code created within this notebook.\n",
    "\n",
    "*Note:* The names of the classes have been changed (Person to Module_Person and Student to Module_Student) just to stress the difference but, they could have been the same."
   ]
  },
  {
   "cell_type": "markdown",
   "metadata": {},
   "source": [
    "### Credits \n",
    "This lab has been designed and implemented by [Riccardo Schiavone](https://github.com/rickyskv)"
   ]
  }
 ],
 "metadata": {
  "kernelspec": {
   "display_name": "Python 3",
   "language": "python",
   "name": "python3"
  },
  "language_info": {
   "codemirror_mode": {
    "name": "ipython",
    "version": 3
   },
   "file_extension": ".py",
   "mimetype": "text/x-python",
   "name": "python",
   "nbconvert_exporter": "python",
   "pygments_lexer": "ipython3",
   "version": "3.7.6"
  }
 },
 "nbformat": 4,
 "nbformat_minor": 4
}
